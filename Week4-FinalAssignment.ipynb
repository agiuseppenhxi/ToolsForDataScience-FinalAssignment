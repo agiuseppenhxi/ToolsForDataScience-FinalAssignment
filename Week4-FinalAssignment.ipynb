{
 "cells": [
  {
   "cell_type": "markdown",
   "id": "5115e37b",
   "metadata": {},
   "source": [
    "# My Jupyter Notebook on IBM Watson Studio"
   ]
  },
  {
   "cell_type": "markdown",
   "id": "859288c7",
   "metadata": {},
   "source": [
    "### Albert Giuseppe Nuñez Hidalgo\n",
    "Economics Student |\n",
    "Aspiring Data Scientist"
   ]
  },
  {
   "cell_type": "markdown",
   "id": "fcbd7b66",
   "metadata": {},
   "source": [
    "*I am interested in data science for two main reasons: knowledge and economic stability:*\n",
    "\n",
    "*Knowledge: the interdisciplinarity, the multi-functionality that data science allows you; the mathematical, statistical, analytical, innovative and programming requirements that this career demands of you are not a burden, but the opposite; they are a source of expanding our cognitive and rational capacities.*\n",
    "\n",
    "*Financial stability: many of us want to learn data science because it's just great, but also because it can open many doors in our jobs and careers. It can lead us to meet many people, expand our horizons and learn from many.*"
   ]
  },
  {
   "cell_type": "markdown",
   "id": "073fdb9a",
   "metadata": {},
   "source": [
    "### My code calculates averages, in this case the grade point average."
   ]
  },
  {
   "cell_type": "code",
   "execution_count": 5,
   "id": "05048c7c",
   "metadata": {},
   "outputs": [
    {
     "name": "stdout",
     "output_type": "stream",
     "text": [
      "My grade point average is:3.75\n"
     ]
    }
   ],
   "source": [
    "grades = [2.50,3.50,4,5]\n",
    "\n",
    "average = sum(grades)/len(grades)\n",
    "\n",
    "print(\"My grade point average is:\" + str(round(average,2)))"
   ]
  },
  {
   "cell_type": "markdown",
   "id": "872a3a42",
   "metadata": {},
   "source": [
    "#### References:\n",
    "\n",
    "1. (Hoja de apuntes de Markdown, 2020)\n",
    "2. (Gallagher, 2021)\n",
    "3. (Tables in Markdown (in Jupyter), 2018)"
   ]
  },
  {
   "cell_type": "markdown",
   "id": "095a3f61",
   "metadata": {},
   "source": [
    "#### Links\n",
    "- Hoja de apuntes de Markdown. (2020). ©Copyright IBM Corporation 2017, 2020. https://www.ibm.com/docs/es/wsd?topic=notebook-markdown-cheatsheet\n",
    "- Gallagher, J. (2021, January 20). Python Average: A Step-by-Step Guide. Career Karma. https://careerkarma.com/blog/python-average/#:%7E:text=The%20formula%20for%20calculating%20the,of%20numbers%20in%20a%20list.\n",
    "- Tables in Markdown (in Jupyter). (2018, February 7). Stack Overflow. https://stackoverflow.com/questions/48655801/tables-in-markdown-in-jupyter"
   ]
  },
  {
   "cell_type": "markdown",
   "id": "71a02293",
   "metadata": {},
   "source": [
    "#### Checklist\n",
    "|Must Have|Checked|\n",
    "|---|---|\n",
    "|List listed|OK|\n",
    "|Bulleted list|OK|\n",
    "|Table|OK|"
   ]
  }
 ],
 "metadata": {
  "kernelspec": {
   "display_name": "Python 3 (ipykernel)",
   "language": "python",
   "name": "python3"
  },
  "language_info": {
   "codemirror_mode": {
    "name": "ipython",
    "version": 3
   },
   "file_extension": ".py",
   "mimetype": "text/x-python",
   "name": "python",
   "nbconvert_exporter": "python",
   "pygments_lexer": "ipython3",
   "version": "3.10.2"
  }
 },
 "nbformat": 4,
 "nbformat_minor": 5
}
